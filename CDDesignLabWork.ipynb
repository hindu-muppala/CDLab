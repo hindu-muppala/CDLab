{
 "cells": [
  {
   "cell_type": "code",
   "execution_count": 1,
   "id": "4bd76a7b",
   "metadata": {},
   "outputs": [],
   "source": [
    "\n",
    "\n",
    "\n",
    "## decide data struction\n",
    "\n",
    "# it is dictionary of rules"
   ]
  },
  {
   "cell_type": "code",
   "execution_count": 37,
   "id": "7863723b",
   "metadata": {},
   "outputs": [],
   "source": [
    "# \n",
    "\n",
    "# P :[[\"\",\"\"],[\"\",\"\"]]\n",
    "# Every list separated acts like the one\n",
    "\n",
    "def first(nT, T, P, x):\n",
    "    \n",
    "    # \n",
    "    # \n",
    "    if x in T:\n",
    "        return x\n",
    "    ans = set()\n",
    "    # union the set variables\n",
    "    \n",
    "    l=len(P[x])\n",
    "    for i in P[x]:\n",
    "        k=0\n",
    "        if i[k] in T:\n",
    "            \n",
    "            ans.add(i[k])\n",
    "            \n",
    "            \n",
    "            \n",
    "        elif i[k] in nT:\n",
    "            \n",
    "            CE=first(nT, T,P, i[k])\n",
    "            \n",
    "            ans.update(CE)\n",
    "            \n",
    "            while  '' in CE and k+1 is not l:\n",
    "                \n",
    "                k=k+1\n",
    "                \n",
    "                CE=first(nT, T,P, i[k])\n",
    "                \n",
    "                ans.update(CE)\n",
    "                \n",
    "            if len(ans) !=1 and '' in CE:\n",
    "                \n",
    "                CE.remove('')\n",
    "            \n",
    "        elif i[0] =='':\n",
    "            \n",
    "            ans.add('')\n",
    "            \n",
    "    return ans\n",
    "                "
   ]
  },
  {
   "cell_type": "code",
   "execution_count": 38,
   "id": "7786a5fd",
   "metadata": {},
   "outputs": [],
   "source": [
    "P ={\n",
    "  'E' : [['T', 'X']],\n",
    "    \n",
    "'X': [ [''],['+', 'E']],\n",
    "    \n",
    "'T': [ ['int', 'Y'], ['(', 'E', ')']],\n",
    "    \n",
    " 'Y': [['*','T'],['']]   \n",
    "}"
   ]
  },
  {
   "cell_type": "code",
   "execution_count": 27,
   "id": "bd162b21",
   "metadata": {},
   "outputs": [],
   "source": [
    "T=['int','(',')','+']\n",
    "nT=['E','X','T','Y']"
   ]
  },
  {
   "cell_type": "code",
   "execution_count": 19,
   "id": "5b2db277",
   "metadata": {},
   "outputs": [
    {
     "name": "stdout",
     "output_type": "stream",
     "text": [
      "int\n",
      "(\n",
      ")\n"
     ]
    }
   ],
   "source": [
    "for i in T:\n",
    "    \n",
    "    print(first(nT, T, P, i))"
   ]
  },
  {
   "cell_type": "code",
   "execution_count": 28,
   "id": "3616bc8c",
   "metadata": {},
   "outputs": [
    {
     "name": "stdout",
     "output_type": "stream",
     "text": [
      "set()\n",
      "{'', '+'}\n",
      "{'(', 'int'}\n",
      "{''}\n"
     ]
    }
   ],
   "source": [
    "for j in nT:\n",
    "    \n",
    "    print(first(nT, T, P, j))"
   ]
  },
  {
   "cell_type": "code",
   "execution_count": 39,
   "id": "93937132",
   "metadata": {},
   "outputs": [
    {
     "name": "stdout",
     "output_type": "stream",
     "text": [
      "{'(', 'int'}\n",
      "{'(', 'int'}\n"
     ]
    },
    {
     "data": {
      "text/plain": [
       "{'(', 'int'}"
      ]
     },
     "execution_count": 39,
     "metadata": {},
     "output_type": "execute_result"
    }
   ],
   "source": [
    "first(nT, T, P, 'E')"
   ]
  },
  {
   "cell_type": "code",
   "execution_count": 62,
   "id": "e1578d80",
   "metadata": {},
   "outputs": [],
   "source": [
    "\n",
    "\n",
    "def follow(nT,T,R,x,ans):\n",
    "    \n",
    "    \n",
    "    \n",
    "    if x in ans.keys():\n",
    "        \n",
    "        return \n",
    "    \n",
    "    for i in R:\n",
    "        \n",
    "        key = i\n",
    "        \n",
    "        \n",
    "        for j in R[i]:\n",
    "            \n",
    "            k =0\n",
    "            \n",
    "            l = len(j)\n",
    "            \n",
    "            \n",
    "            while k+1 < l :\n",
    "                \n",
    "                \n",
    "                # find the \n",
    "                \n",
    "                ## follow of k+1l[k+]\n",
    "                \n",
    "                if j[k+1] !=x:\n",
    "                    \n",
    "                    k+=1\n",
    "                    \n",
    "                    continue\n",
    "                \n",
    "                if k+2 < l  :\n",
    "                    \n",
    "                    s = first(nT, T, P, j[k+2])\n",
    "                    \n",
    "                    if '' in s:\n",
    "                        \n",
    "                        if key in ans.keys():\n",
    "                            \n",
    "                            s.update(ans[key])\n",
    "                        \n",
    "                        else:\n",
    "                            \n",
    "                            # find the follow\n",
    "                            \n",
    "                            follow(nT,T,R,key,ans)\n",
    "                            \n",
    "                            # calculate it\n",
    "                            \n",
    "                            s.update(ans[key])\n",
    "                            \n",
    "                        ans.remove('')\n",
    "                        \n",
    "\n",
    "                    if x in ans.keys():\n",
    "                    \n",
    "                        ans[x].extend(s)\n",
    "                        \n",
    "                    else:\n",
    "                        \n",
    "                        ans[x] = list(s)\n",
    "                        \n",
    "                else:\n",
    "                    \n",
    "                    follow(nT,T,R,key,ans)\n",
    "                    \n",
    "                    if x in ans.keys():\n",
    "                    \n",
    "                        ans[x].extend(ans[key])\n",
    "                        \n",
    "                    else:\n",
    "                        \n",
    "                        ans[x] = list(s)\n",
    "                            \n",
    "                              \n",
    "                k+=1\n",
    "          \n",
    "                    ## updating th       \n",
    "        \n",
    "    "
   ]
  },
  {
   "cell_type": "code",
   "execution_count": 63,
   "id": "4b726acd",
   "metadata": {},
   "outputs": [
    {
     "ename": "RecursionError",
     "evalue": "maximum recursion depth exceeded while calling a Python object",
     "output_type": "error",
     "traceback": [
      "\u001b[1;31m---------------------------------------------------------------------------\u001b[0m",
      "\u001b[1;31mRecursionError\u001b[0m                            Traceback (most recent call last)",
      "Cell \u001b[1;32mIn[63], line 2\u001b[0m\n\u001b[0;32m      1\u001b[0m ans\u001b[38;5;241m=\u001b[39m{\u001b[38;5;124m'\u001b[39m\u001b[38;5;124mE\u001b[39m\u001b[38;5;124m'\u001b[39m:[\u001b[38;5;124m'\u001b[39m\u001b[38;5;124m$\u001b[39m\u001b[38;5;124m'\u001b[39m]}\n\u001b[1;32m----> 2\u001b[0m follow(nT,T,P,\u001b[38;5;124m'\u001b[39m\u001b[38;5;124mT\u001b[39m\u001b[38;5;124m'\u001b[39m,ans)\n",
      "Cell \u001b[1;32mIn[62], line 70\u001b[0m, in \u001b[0;36mfollow\u001b[1;34m(nT, T, R, x, ans)\u001b[0m\n\u001b[0;32m     66\u001b[0m         ans[x] \u001b[38;5;241m=\u001b[39m \u001b[38;5;28mlist\u001b[39m(s)\n\u001b[0;32m     68\u001b[0m \u001b[38;5;28;01melse\u001b[39;00m:\n\u001b[1;32m---> 70\u001b[0m     follow(nT,T,R,key,ans)\n\u001b[0;32m     72\u001b[0m     \u001b[38;5;28;01mif\u001b[39;00m x \u001b[38;5;129;01min\u001b[39;00m ans\u001b[38;5;241m.\u001b[39mkeys():\n\u001b[0;32m     74\u001b[0m         ans[x]\u001b[38;5;241m.\u001b[39mextend(ans[key])\n",
      "Cell \u001b[1;32mIn[62], line 70\u001b[0m, in \u001b[0;36mfollow\u001b[1;34m(nT, T, R, x, ans)\u001b[0m\n\u001b[0;32m     66\u001b[0m         ans[x] \u001b[38;5;241m=\u001b[39m \u001b[38;5;28mlist\u001b[39m(s)\n\u001b[0;32m     68\u001b[0m \u001b[38;5;28;01melse\u001b[39;00m:\n\u001b[1;32m---> 70\u001b[0m     follow(nT,T,R,key,ans)\n\u001b[0;32m     72\u001b[0m     \u001b[38;5;28;01mif\u001b[39;00m x \u001b[38;5;129;01min\u001b[39;00m ans\u001b[38;5;241m.\u001b[39mkeys():\n\u001b[0;32m     74\u001b[0m         ans[x]\u001b[38;5;241m.\u001b[39mextend(ans[key])\n",
      "    \u001b[1;31m[... skipping similar frames: follow at line 70 (2970 times)]\u001b[0m\n",
      "Cell \u001b[1;32mIn[62], line 70\u001b[0m, in \u001b[0;36mfollow\u001b[1;34m(nT, T, R, x, ans)\u001b[0m\n\u001b[0;32m     66\u001b[0m         ans[x] \u001b[38;5;241m=\u001b[39m \u001b[38;5;28mlist\u001b[39m(s)\n\u001b[0;32m     68\u001b[0m \u001b[38;5;28;01melse\u001b[39;00m:\n\u001b[1;32m---> 70\u001b[0m     follow(nT,T,R,key,ans)\n\u001b[0;32m     72\u001b[0m     \u001b[38;5;28;01mif\u001b[39;00m x \u001b[38;5;129;01min\u001b[39;00m ans\u001b[38;5;241m.\u001b[39mkeys():\n\u001b[0;32m     74\u001b[0m         ans[x]\u001b[38;5;241m.\u001b[39mextend(ans[key])\n",
      "Cell \u001b[1;32mIn[62], line 5\u001b[0m, in \u001b[0;36mfollow\u001b[1;34m(nT, T, R, x, ans)\u001b[0m\n\u001b[0;32m      1\u001b[0m \u001b[38;5;28;01mdef\u001b[39;00m \u001b[38;5;21mfollow\u001b[39m(nT,T,R,x,ans):\n\u001b[1;32m----> 5\u001b[0m     \u001b[38;5;28;01mif\u001b[39;00m x \u001b[38;5;129;01min\u001b[39;00m ans\u001b[38;5;241m.\u001b[39mkeys():\n\u001b[0;32m      7\u001b[0m         \u001b[38;5;28;01mreturn\u001b[39;00m \n\u001b[0;32m      9\u001b[0m     \u001b[38;5;28;01mfor\u001b[39;00m i \u001b[38;5;129;01min\u001b[39;00m R:\n",
      "\u001b[1;31mRecursionError\u001b[0m: maximum recursion depth exceeded while calling a Python object"
     ]
    }
   ],
   "source": [
    "\n",
    "\n",
    "ans={'E':['$']}\n",
    "follow(nT,T,P,'T',ans)"
   ]
  },
  {
   "cell_type": "code",
   "execution_count": 59,
   "id": "fc188600",
   "metadata": {},
   "outputs": [
    {
     "data": {
      "text/plain": [
       "{'E': ['$']}"
      ]
     },
     "execution_count": 59,
     "metadata": {},
     "output_type": "execute_result"
    }
   ],
   "source": [
    "ans"
   ]
  },
  {
   "cell_type": "code",
   "execution_count": 49,
   "id": "34cd5a5d",
   "metadata": {},
   "outputs": [
    {
     "data": {
      "text/plain": [
       "{'E': [['T', 'X']],\n",
       " 'X': [[''], ['+', 'E']],\n",
       " 'T': [['int', 'Y'], ['(', 'E', ')']],\n",
       " 'Y': [['*', 'T'], ['']]}"
      ]
     },
     "execution_count": 49,
     "metadata": {},
     "output_type": "execute_result"
    }
   ],
   "source": [
    "P"
   ]
  },
  {
   "cell_type": "code",
   "execution_count": 1,
   "id": "ccc1926c",
   "metadata": {},
   "outputs": [
    {
     "ename": "IndentationError",
     "evalue": "expected an indented block after 'if' statement on line 23 (2001542105.py, line 27)",
     "output_type": "error",
     "traceback": [
      "\u001b[1;36m  Cell \u001b[1;32mIn[1], line 27\u001b[1;36m\u001b[0m\n\u001b[1;33m    ans[x].update(s)\u001b[0m\n\u001b[1;37m    ^\u001b[0m\n\u001b[1;31mIndentationError\u001b[0m\u001b[1;31m:\u001b[0m expected an indented block after 'if' statement on line 23\n"
     ]
    }
   ],
   "source": [
    "\n",
    "\n",
    "def follow( N,T,P, x, ans, P):\n",
    "    \n",
    "    ans[x]=set()\n",
    "    \n",
    "    for i in P:\n",
    "        \n",
    "        for j in P[i]:\n",
    "            \n",
    "            l=len(j)\n",
    "            \n",
    "            k=0\n",
    "            \n",
    "            while k+1 < l :\n",
    "                \n",
    "                if l[k]==x:\n",
    "                    \n",
    "                    s=first(N,T,P,l[k+1])\n",
    "                    \n",
    "                    if '' in s:\n",
    "                        \n",
    "                        ##find follow and update\n",
    "                        \n",
    "                        \n",
    "                        if i!=x:\n",
    "                            P.add(l[k])\n",
    "                            s=follow( N,T,P, key, ans, P)\n",
    "                            \n",
    "                        \n",
    "                    ans[x].update(s)\n",
    "                        \n",
    "                              \n",
    "                else:\n",
    "                    \n",
    "                    k+=1\n",
    "            \n",
    "            \n",
    "            if x  == j[l-1]\n",
    "            \n",
    "                #find the follow and add\n",
    "                \n",
    "    return ans[x]"
   ]
  },
  {
   "cell_type": "code",
   "execution_count": 5,
   "id": "e0029f10",
   "metadata": {},
   "outputs": [],
   "source": [
    "## remaining \n",
    "\n",
    "\n",
    "## follow of the grammer \n",
    "\n"
   ]
  },
  {
   "cell_type": "code",
   "execution_count": null,
   "id": "e940b33e",
   "metadata": {},
   "outputs": [],
   "source": [
    "\n"
   ]
  },
  {
   "cell_type": "code",
   "execution_count": null,
   "id": "b82ae105",
   "metadata": {},
   "outputs": [],
   "source": [
    "\n",
    "\n",
    "    "
   ]
  }
 ],
 "metadata": {
  "kernelspec": {
   "display_name": "Python 3 (ipykernel)",
   "language": "python",
   "name": "python3"
  },
  "language_info": {
   "codemirror_mode": {
    "name": "ipython",
    "version": 3
   },
   "file_extension": ".py",
   "mimetype": "text/x-python",
   "name": "python",
   "nbconvert_exporter": "python",
   "pygments_lexer": "ipython3",
   "version": "3.11.5"
  }
 },
 "nbformat": 4,
 "nbformat_minor": 5
}
